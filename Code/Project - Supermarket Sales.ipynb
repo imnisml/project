{
 "cells": [
  {
   "cell_type": "markdown",
   "id": "4cca8817",
   "metadata": {},
   "source": [
    "# Project on Supermarket Sales Analysis \n",
    "\n",
    "by **Noor Iman Ismail** (imnisml)\n",
    "\n",
    "This project is to analyze the growth of supermarket with multiple branches in the most populated cities. Using Pandas in Python library for exploratory data analysis (EDA), the data are able to be investigated, analyzed, and cleaned accordingly. \n",
    "\n",
    "\n",
    "The objectives of this project are to:\n",
    " - Identify the dataset\n",
    " - Calculate the supermarket cost of goods sold, gross margin, and gross income\n",
    " - Analyze and visualize the supermarket's gross income\n",
    " - Search data base for user input"
   ]
  },
  {
   "cell_type": "markdown",
   "id": "1c0f6a95",
   "metadata": {},
   "source": [
    "## About the Dataset\n",
    "\n",
    "Supermarket_Sales dataset is obtained from [Supermarket Sales by Aung Pyae](https://www.kaggle.com/aungpyaeap/supermarket-sales). \n",
    "\n",
    "The data dictionary attribute information of the fields (columns):\n",
    "\n",
    "- **Invoice ID** - Computer generated sales slip invoice identification number.\n",
    "- **Branch** - Branch of supercenter identified as A, B, and C.\n",
    "- **City** - Location of supercenters.\n",
    "- **Customer** - Type of customers, recorded by Members for customer using member card and Normal for without member card.\n",
    "- **Gender** - Gender type of customer.\n",
    "- **Product line** - General item categorization groups.\n",
    "- **Unit price** - Price of each product in Dollar.\n",
    "- **Quantity** - Number of products purchased by customer.\n",
    "- **Date** - Date of purchase.\n",
    "- **Time** - Purchase time.\n",
    "- **Payment** - Payment used by customer for purchase\n",
    "- **Rating** - Customer stratification rating on their overall shopping experience (on scale of 1 to 10)."
   ]
  },
  {
   "cell_type": "markdown",
   "id": "0ef96555",
   "metadata": {},
   "source": [
    "### 1. Dataset identification"
   ]
  },
  {
   "cell_type": "markdown",
   "id": "78f7b3f6",
   "metadata": {},
   "source": [
    "#### Import Pandas with an alias of `pd` and NumPy with an alias od `np`"
   ]
  },
  {
   "cell_type": "code",
   "execution_count": 2,
   "id": "06b36711",
   "metadata": {},
   "outputs": [],
   "source": [
    "import pandas as pd\n",
    "import numpy as np\n",
    "import matplotlib.pyplot as plt\n",
    "from datetime import datetime\n",
    "%matplotlib inline"
   ]
  },
  {
   "cell_type": "markdown",
   "id": "83fe698f",
   "metadata": {},
   "source": [
    "#### Read in the `Supermarket_Sales.csv` into a variable called `sales_df`."
   ]
  },
  {
   "cell_type": "code",
   "execution_count": 3,
   "id": "65c1cc54",
   "metadata": {},
   "outputs": [],
   "source": [
    "sales_df = pd.read_csv('.../data/Supermarket_Sales.csv')"
   ]
  },
  {
   "cell_type": "markdown",
   "id": "ae9b6556",
   "metadata": {},
   "source": [
    "#### The first five rows of the dataset. "
   ]
  },
  {
   "cell_type": "code",
   "execution_count": 4,
   "id": "624ce2fe",
   "metadata": {},
   "outputs": [
    {
     "data": {
      "text/html": [
       "<div>\n",
       "<style scoped>\n",
       "    .dataframe tbody tr th:only-of-type {\n",
       "        vertical-align: middle;\n",
       "    }\n",
       "\n",
       "    .dataframe tbody tr th {\n",
       "        vertical-align: top;\n",
       "    }\n",
       "\n",
       "    .dataframe thead th {\n",
       "        text-align: right;\n",
       "    }\n",
       "</style>\n",
       "<table border=\"1\" class=\"dataframe\">\n",
       "  <thead>\n",
       "    <tr style=\"text-align: right;\">\n",
       "      <th></th>\n",
       "      <th>Invoice ID</th>\n",
       "      <th>Branch</th>\n",
       "      <th>City</th>\n",
       "      <th>Customer type</th>\n",
       "      <th>Gender</th>\n",
       "      <th>Product line</th>\n",
       "      <th>Unit price</th>\n",
       "      <th>Quantity</th>\n",
       "      <th>Date</th>\n",
       "      <th>Time</th>\n",
       "      <th>Payment</th>\n",
       "      <th>Rating</th>\n",
       "    </tr>\n",
       "  </thead>\n",
       "  <tbody>\n",
       "    <tr>\n",
       "      <th>0</th>\n",
       "      <td>750-67-8428</td>\n",
       "      <td>A</td>\n",
       "      <td>Yangon</td>\n",
       "      <td>Member</td>\n",
       "      <td>Female</td>\n",
       "      <td>Health and beauty</td>\n",
       "      <td>$74.69</td>\n",
       "      <td>7</td>\n",
       "      <td>1/5/2019</td>\n",
       "      <td>13:08</td>\n",
       "      <td>Ewallet</td>\n",
       "      <td>9.1</td>\n",
       "    </tr>\n",
       "    <tr>\n",
       "      <th>1</th>\n",
       "      <td>226-31-3081</td>\n",
       "      <td>C</td>\n",
       "      <td>Naypyitaw</td>\n",
       "      <td>Normal</td>\n",
       "      <td>Female</td>\n",
       "      <td>Electronic accessories</td>\n",
       "      <td>$15.28</td>\n",
       "      <td>5</td>\n",
       "      <td>3/8/2019</td>\n",
       "      <td>10:29</td>\n",
       "      <td>Cash</td>\n",
       "      <td>9.6</td>\n",
       "    </tr>\n",
       "    <tr>\n",
       "      <th>2</th>\n",
       "      <td>631-41-3108</td>\n",
       "      <td>A</td>\n",
       "      <td>Yangon</td>\n",
       "      <td>Normal</td>\n",
       "      <td>Male</td>\n",
       "      <td>Home and lifestyle</td>\n",
       "      <td>$46.33</td>\n",
       "      <td>7</td>\n",
       "      <td>3/3/2019</td>\n",
       "      <td>13:23</td>\n",
       "      <td>Credit card</td>\n",
       "      <td>7.4</td>\n",
       "    </tr>\n",
       "    <tr>\n",
       "      <th>3</th>\n",
       "      <td>123-19-1176</td>\n",
       "      <td>A</td>\n",
       "      <td>Yangon</td>\n",
       "      <td>Member</td>\n",
       "      <td>Male</td>\n",
       "      <td>Health and beauty</td>\n",
       "      <td>$58.22</td>\n",
       "      <td>8</td>\n",
       "      <td>1/27/2019</td>\n",
       "      <td>20:33</td>\n",
       "      <td>Ewallet</td>\n",
       "      <td>8.4</td>\n",
       "    </tr>\n",
       "    <tr>\n",
       "      <th>4</th>\n",
       "      <td>373-73-7910</td>\n",
       "      <td>A</td>\n",
       "      <td>Yangon</td>\n",
       "      <td>Normal</td>\n",
       "      <td>Male</td>\n",
       "      <td>Sports and travel</td>\n",
       "      <td>$86.31</td>\n",
       "      <td>7</td>\n",
       "      <td>2/8/2019</td>\n",
       "      <td>10:37</td>\n",
       "      <td>Ewallet</td>\n",
       "      <td>5.3</td>\n",
       "    </tr>\n",
       "  </tbody>\n",
       "</table>\n",
       "</div>"
      ],
      "text/plain": [
       "    Invoice ID Branch       City Customer type  Gender  \\\n",
       "0  750-67-8428      A     Yangon        Member  Female   \n",
       "1  226-31-3081      C  Naypyitaw        Normal  Female   \n",
       "2  631-41-3108      A     Yangon        Normal    Male   \n",
       "3  123-19-1176      A     Yangon        Member    Male   \n",
       "4  373-73-7910      A     Yangon        Normal    Male   \n",
       "\n",
       "             Product line Unit price  Quantity       Date   Time      Payment  \\\n",
       "0       Health and beauty     $74.69         7   1/5/2019  13:08      Ewallet   \n",
       "1  Electronic accessories     $15.28         5   3/8/2019  10:29         Cash   \n",
       "2      Home and lifestyle     $46.33         7   3/3/2019  13:23  Credit card   \n",
       "3       Health and beauty     $58.22         8  1/27/2019  20:33      Ewallet   \n",
       "4       Sports and travel     $86.31         7   2/8/2019  10:37      Ewallet   \n",
       "\n",
       "   Rating  \n",
       "0     9.1  \n",
       "1     9.6  \n",
       "2     7.4  \n",
       "3     8.4  \n",
       "4     5.3  "
      ]
     },
     "execution_count": 4,
     "metadata": {},
     "output_type": "execute_result"
    }
   ],
   "source": [
    "sales_df.head(5)"
   ]
  },
  {
   "cell_type": "markdown",
   "id": "28421f31",
   "metadata": {},
   "source": [
    "#### Set the 'Invoice ID' column as the index of the dataframe"
   ]
  },
  {
   "cell_type": "code",
   "execution_count": 5,
   "id": "3fc001a3",
   "metadata": {},
   "outputs": [],
   "source": [
    "sales_df.set_index('Invoice ID',inplace=True)"
   ]
  },
  {
   "cell_type": "code",
   "execution_count": 6,
   "id": "f71c4ac6",
   "metadata": {},
   "outputs": [
    {
     "data": {
      "text/html": [
       "<div>\n",
       "<style scoped>\n",
       "    .dataframe tbody tr th:only-of-type {\n",
       "        vertical-align: middle;\n",
       "    }\n",
       "\n",
       "    .dataframe tbody tr th {\n",
       "        vertical-align: top;\n",
       "    }\n",
       "\n",
       "    .dataframe thead th {\n",
       "        text-align: right;\n",
       "    }\n",
       "</style>\n",
       "<table border=\"1\" class=\"dataframe\">\n",
       "  <thead>\n",
       "    <tr style=\"text-align: right;\">\n",
       "      <th></th>\n",
       "      <th>Branch</th>\n",
       "      <th>City</th>\n",
       "      <th>Customer type</th>\n",
       "      <th>Gender</th>\n",
       "      <th>Product line</th>\n",
       "      <th>Unit price</th>\n",
       "      <th>Quantity</th>\n",
       "      <th>Date</th>\n",
       "      <th>Time</th>\n",
       "      <th>Payment</th>\n",
       "      <th>Rating</th>\n",
       "    </tr>\n",
       "    <tr>\n",
       "      <th>Invoice ID</th>\n",
       "      <th></th>\n",
       "      <th></th>\n",
       "      <th></th>\n",
       "      <th></th>\n",
       "      <th></th>\n",
       "      <th></th>\n",
       "      <th></th>\n",
       "      <th></th>\n",
       "      <th></th>\n",
       "      <th></th>\n",
       "      <th></th>\n",
       "    </tr>\n",
       "  </thead>\n",
       "  <tbody>\n",
       "    <tr>\n",
       "      <th>750-67-8428</th>\n",
       "      <td>A</td>\n",
       "      <td>Yangon</td>\n",
       "      <td>Member</td>\n",
       "      <td>Female</td>\n",
       "      <td>Health and beauty</td>\n",
       "      <td>$74.69</td>\n",
       "      <td>7</td>\n",
       "      <td>1/5/2019</td>\n",
       "      <td>13:08</td>\n",
       "      <td>Ewallet</td>\n",
       "      <td>9.1</td>\n",
       "    </tr>\n",
       "    <tr>\n",
       "      <th>226-31-3081</th>\n",
       "      <td>C</td>\n",
       "      <td>Naypyitaw</td>\n",
       "      <td>Normal</td>\n",
       "      <td>Female</td>\n",
       "      <td>Electronic accessories</td>\n",
       "      <td>$15.28</td>\n",
       "      <td>5</td>\n",
       "      <td>3/8/2019</td>\n",
       "      <td>10:29</td>\n",
       "      <td>Cash</td>\n",
       "      <td>9.6</td>\n",
       "    </tr>\n",
       "    <tr>\n",
       "      <th>631-41-3108</th>\n",
       "      <td>A</td>\n",
       "      <td>Yangon</td>\n",
       "      <td>Normal</td>\n",
       "      <td>Male</td>\n",
       "      <td>Home and lifestyle</td>\n",
       "      <td>$46.33</td>\n",
       "      <td>7</td>\n",
       "      <td>3/3/2019</td>\n",
       "      <td>13:23</td>\n",
       "      <td>Credit card</td>\n",
       "      <td>7.4</td>\n",
       "    </tr>\n",
       "    <tr>\n",
       "      <th>123-19-1176</th>\n",
       "      <td>A</td>\n",
       "      <td>Yangon</td>\n",
       "      <td>Member</td>\n",
       "      <td>Male</td>\n",
       "      <td>Health and beauty</td>\n",
       "      <td>$58.22</td>\n",
       "      <td>8</td>\n",
       "      <td>1/27/2019</td>\n",
       "      <td>20:33</td>\n",
       "      <td>Ewallet</td>\n",
       "      <td>8.4</td>\n",
       "    </tr>\n",
       "    <tr>\n",
       "      <th>373-73-7910</th>\n",
       "      <td>A</td>\n",
       "      <td>Yangon</td>\n",
       "      <td>Normal</td>\n",
       "      <td>Male</td>\n",
       "      <td>Sports and travel</td>\n",
       "      <td>$86.31</td>\n",
       "      <td>7</td>\n",
       "      <td>2/8/2019</td>\n",
       "      <td>10:37</td>\n",
       "      <td>Ewallet</td>\n",
       "      <td>5.3</td>\n",
       "    </tr>\n",
       "  </tbody>\n",
       "</table>\n",
       "</div>"
      ],
      "text/plain": [
       "            Branch       City Customer type  Gender            Product line  \\\n",
       "Invoice ID                                                                    \n",
       "750-67-8428      A     Yangon        Member  Female       Health and beauty   \n",
       "226-31-3081      C  Naypyitaw        Normal  Female  Electronic accessories   \n",
       "631-41-3108      A     Yangon        Normal    Male      Home and lifestyle   \n",
       "123-19-1176      A     Yangon        Member    Male       Health and beauty   \n",
       "373-73-7910      A     Yangon        Normal    Male       Sports and travel   \n",
       "\n",
       "            Unit price  Quantity       Date   Time      Payment  Rating  \n",
       "Invoice ID                                                               \n",
       "750-67-8428     $74.69         7   1/5/2019  13:08      Ewallet     9.1  \n",
       "226-31-3081     $15.28         5   3/8/2019  10:29         Cash     9.6  \n",
       "631-41-3108     $46.33         7   3/3/2019  13:23  Credit card     7.4  \n",
       "123-19-1176     $58.22         8  1/27/2019  20:33      Ewallet     8.4  \n",
       "373-73-7910     $86.31         7   2/8/2019  10:37      Ewallet     5.3  "
      ]
     },
     "execution_count": 6,
     "metadata": {},
     "output_type": "execute_result"
    }
   ],
   "source": [
    "sales_df.head()"
   ]
  },
  {
   "cell_type": "markdown",
   "id": "27fa663b",
   "metadata": {},
   "source": [
    "#### Shape of the data set"
   ]
  },
  {
   "cell_type": "code",
   "execution_count": 7,
   "id": "b2415296",
   "metadata": {},
   "outputs": [
    {
     "data": {
      "text/plain": [
       "(1000, 11)"
      ]
     },
     "execution_count": 7,
     "metadata": {},
     "output_type": "execute_result"
    }
   ],
   "source": [
    "sales_df.shape"
   ]
  },
  {
   "cell_type": "code",
   "execution_count": 8,
   "id": "5a56bd06",
   "metadata": {},
   "outputs": [
    {
     "name": "stdout",
     "output_type": "stream",
     "text": [
      "1000\n",
      "11\n"
     ]
    }
   ],
   "source": [
    "print(sales_df.shape[0])\n",
    "print(sales_df.shape[1])"
   ]
  },
  {
   "cell_type": "markdown",
   "id": "9ce55d7c",
   "metadata": {},
   "source": [
    "The dataset contains 1000 number of observations and 11 number of columns after the `Invoice ID` has been set as the index of the data frame."
   ]
  },
  {
   "cell_type": "markdown",
   "id": "1118f927",
   "metadata": {},
   "source": [
    "#### Types and info of the data set"
   ]
  },
  {
   "cell_type": "markdown",
   "id": "8b9abb6d",
   "metadata": {},
   "source": [
    "Using `.info()` to obtain the Data frame information"
   ]
  },
  {
   "cell_type": "code",
   "execution_count": 9,
   "id": "05cabbcd",
   "metadata": {},
   "outputs": [
    {
     "name": "stdout",
     "output_type": "stream",
     "text": [
      "<class 'pandas.core.frame.DataFrame'>\n",
      "Index: 1000 entries, 750-67-8428 to 849-09-3807\n",
      "Data columns (total 11 columns):\n",
      " #   Column         Non-Null Count  Dtype  \n",
      "---  ------         --------------  -----  \n",
      " 0   Branch         1000 non-null   object \n",
      " 1   City           1000 non-null   object \n",
      " 2   Customer type  1000 non-null   object \n",
      " 3   Gender         1000 non-null   object \n",
      " 4   Product line   1000 non-null   object \n",
      " 5   Unit price     1000 non-null   object \n",
      " 6   Quantity       1000 non-null   int64  \n",
      " 7   Date           1000 non-null   object \n",
      " 8   Time           1000 non-null   object \n",
      " 9   Payment        1000 non-null   object \n",
      " 10  Rating         1000 non-null   float64\n",
      "dtypes: float64(1), int64(1), object(9)\n",
      "memory usage: 93.8+ KB\n"
     ]
    }
   ],
   "source": [
    "sales_df.info()"
   ]
  },
  {
   "cell_type": "markdown",
   "id": "f71c9448",
   "metadata": {},
   "source": [
    "Using the `.select_dtypes()` operation with specification of 'number' to identify data set that is in integer or float type"
   ]
  },
  {
   "cell_type": "code",
   "execution_count": 10,
   "id": "b5d29b5d",
   "metadata": {},
   "outputs": [
    {
     "data": {
      "text/html": [
       "<div>\n",
       "<style scoped>\n",
       "    .dataframe tbody tr th:only-of-type {\n",
       "        vertical-align: middle;\n",
       "    }\n",
       "\n",
       "    .dataframe tbody tr th {\n",
       "        vertical-align: top;\n",
       "    }\n",
       "\n",
       "    .dataframe thead th {\n",
       "        text-align: right;\n",
       "    }\n",
       "</style>\n",
       "<table border=\"1\" class=\"dataframe\">\n",
       "  <thead>\n",
       "    <tr style=\"text-align: right;\">\n",
       "      <th></th>\n",
       "      <th>Quantity</th>\n",
       "      <th>Rating</th>\n",
       "    </tr>\n",
       "    <tr>\n",
       "      <th>Invoice ID</th>\n",
       "      <th></th>\n",
       "      <th></th>\n",
       "    </tr>\n",
       "  </thead>\n",
       "  <tbody>\n",
       "    <tr>\n",
       "      <th>750-67-8428</th>\n",
       "      <td>7</td>\n",
       "      <td>9.1</td>\n",
       "    </tr>\n",
       "  </tbody>\n",
       "</table>\n",
       "</div>"
      ],
      "text/plain": [
       "             Quantity  Rating\n",
       "Invoice ID                   \n",
       "750-67-8428         7     9.1"
      ]
     },
     "execution_count": 10,
     "metadata": {},
     "output_type": "execute_result"
    }
   ],
   "source": [
    "sales_df.select_dtypes(include='number').head(1)"
   ]
  },
  {
   "cell_type": "markdown",
   "id": "26c580e7",
   "metadata": {},
   "source": [
    "The data types for all columns are `object` (str) except for `Quantity` and `Rating`. Operation `.select_dtypes(include='number')` helps to filter data types `int64` and `float64`."
   ]
  },
  {
   "cell_type": "markdown",
   "id": "5a11e5d4",
   "metadata": {},
   "source": [
    "#### Identifying missing data"
   ]
  },
  {
   "cell_type": "markdown",
   "id": "88934b96",
   "metadata": {},
   "source": [
    "Using `isnull()` operation to identify the null values in the data set"
   ]
  },
  {
   "cell_type": "code",
   "execution_count": 11,
   "id": "f214f861",
   "metadata": {},
   "outputs": [
    {
     "data": {
      "text/html": [
       "<div>\n",
       "<style scoped>\n",
       "    .dataframe tbody tr th:only-of-type {\n",
       "        vertical-align: middle;\n",
       "    }\n",
       "\n",
       "    .dataframe tbody tr th {\n",
       "        vertical-align: top;\n",
       "    }\n",
       "\n",
       "    .dataframe thead th {\n",
       "        text-align: right;\n",
       "    }\n",
       "</style>\n",
       "<table border=\"1\" class=\"dataframe\">\n",
       "  <thead>\n",
       "    <tr style=\"text-align: right;\">\n",
       "      <th></th>\n",
       "      <th>Branch</th>\n",
       "      <th>City</th>\n",
       "      <th>Customer type</th>\n",
       "      <th>Gender</th>\n",
       "      <th>Product line</th>\n",
       "      <th>Unit price</th>\n",
       "      <th>Quantity</th>\n",
       "      <th>Date</th>\n",
       "      <th>Time</th>\n",
       "      <th>Payment</th>\n",
       "      <th>Rating</th>\n",
       "    </tr>\n",
       "    <tr>\n",
       "      <th>Invoice ID</th>\n",
       "      <th></th>\n",
       "      <th></th>\n",
       "      <th></th>\n",
       "      <th></th>\n",
       "      <th></th>\n",
       "      <th></th>\n",
       "      <th></th>\n",
       "      <th></th>\n",
       "      <th></th>\n",
       "      <th></th>\n",
       "      <th></th>\n",
       "    </tr>\n",
       "  </thead>\n",
       "  <tbody>\n",
       "    <tr>\n",
       "      <th>750-67-8428</th>\n",
       "      <td>False</td>\n",
       "      <td>False</td>\n",
       "      <td>False</td>\n",
       "      <td>False</td>\n",
       "      <td>False</td>\n",
       "      <td>False</td>\n",
       "      <td>False</td>\n",
       "      <td>False</td>\n",
       "      <td>False</td>\n",
       "      <td>False</td>\n",
       "      <td>False</td>\n",
       "    </tr>\n",
       "    <tr>\n",
       "      <th>226-31-3081</th>\n",
       "      <td>False</td>\n",
       "      <td>False</td>\n",
       "      <td>False</td>\n",
       "      <td>False</td>\n",
       "      <td>False</td>\n",
       "      <td>False</td>\n",
       "      <td>False</td>\n",
       "      <td>False</td>\n",
       "      <td>False</td>\n",
       "      <td>False</td>\n",
       "      <td>False</td>\n",
       "    </tr>\n",
       "    <tr>\n",
       "      <th>631-41-3108</th>\n",
       "      <td>False</td>\n",
       "      <td>False</td>\n",
       "      <td>False</td>\n",
       "      <td>False</td>\n",
       "      <td>False</td>\n",
       "      <td>False</td>\n",
       "      <td>False</td>\n",
       "      <td>False</td>\n",
       "      <td>False</td>\n",
       "      <td>False</td>\n",
       "      <td>False</td>\n",
       "    </tr>\n",
       "    <tr>\n",
       "      <th>123-19-1176</th>\n",
       "      <td>False</td>\n",
       "      <td>False</td>\n",
       "      <td>False</td>\n",
       "      <td>False</td>\n",
       "      <td>False</td>\n",
       "      <td>False</td>\n",
       "      <td>False</td>\n",
       "      <td>False</td>\n",
       "      <td>False</td>\n",
       "      <td>False</td>\n",
       "      <td>False</td>\n",
       "    </tr>\n",
       "    <tr>\n",
       "      <th>373-73-7910</th>\n",
       "      <td>False</td>\n",
       "      <td>False</td>\n",
       "      <td>False</td>\n",
       "      <td>False</td>\n",
       "      <td>False</td>\n",
       "      <td>False</td>\n",
       "      <td>False</td>\n",
       "      <td>False</td>\n",
       "      <td>False</td>\n",
       "      <td>False</td>\n",
       "      <td>False</td>\n",
       "    </tr>\n",
       "    <tr>\n",
       "      <th>...</th>\n",
       "      <td>...</td>\n",
       "      <td>...</td>\n",
       "      <td>...</td>\n",
       "      <td>...</td>\n",
       "      <td>...</td>\n",
       "      <td>...</td>\n",
       "      <td>...</td>\n",
       "      <td>...</td>\n",
       "      <td>...</td>\n",
       "      <td>...</td>\n",
       "      <td>...</td>\n",
       "    </tr>\n",
       "    <tr>\n",
       "      <th>233-67-5758</th>\n",
       "      <td>False</td>\n",
       "      <td>False</td>\n",
       "      <td>False</td>\n",
       "      <td>False</td>\n",
       "      <td>False</td>\n",
       "      <td>False</td>\n",
       "      <td>False</td>\n",
       "      <td>False</td>\n",
       "      <td>False</td>\n",
       "      <td>False</td>\n",
       "      <td>False</td>\n",
       "    </tr>\n",
       "    <tr>\n",
       "      <th>303-96-2227</th>\n",
       "      <td>False</td>\n",
       "      <td>False</td>\n",
       "      <td>False</td>\n",
       "      <td>False</td>\n",
       "      <td>False</td>\n",
       "      <td>False</td>\n",
       "      <td>False</td>\n",
       "      <td>False</td>\n",
       "      <td>False</td>\n",
       "      <td>False</td>\n",
       "      <td>False</td>\n",
       "    </tr>\n",
       "    <tr>\n",
       "      <th>727-02-1313</th>\n",
       "      <td>False</td>\n",
       "      <td>False</td>\n",
       "      <td>False</td>\n",
       "      <td>False</td>\n",
       "      <td>False</td>\n",
       "      <td>False</td>\n",
       "      <td>False</td>\n",
       "      <td>False</td>\n",
       "      <td>False</td>\n",
       "      <td>False</td>\n",
       "      <td>False</td>\n",
       "    </tr>\n",
       "    <tr>\n",
       "      <th>347-56-2442</th>\n",
       "      <td>False</td>\n",
       "      <td>False</td>\n",
       "      <td>False</td>\n",
       "      <td>False</td>\n",
       "      <td>False</td>\n",
       "      <td>False</td>\n",
       "      <td>False</td>\n",
       "      <td>False</td>\n",
       "      <td>False</td>\n",
       "      <td>False</td>\n",
       "      <td>False</td>\n",
       "    </tr>\n",
       "    <tr>\n",
       "      <th>849-09-3807</th>\n",
       "      <td>False</td>\n",
       "      <td>False</td>\n",
       "      <td>False</td>\n",
       "      <td>False</td>\n",
       "      <td>False</td>\n",
       "      <td>False</td>\n",
       "      <td>False</td>\n",
       "      <td>False</td>\n",
       "      <td>False</td>\n",
       "      <td>False</td>\n",
       "      <td>False</td>\n",
       "    </tr>\n",
       "  </tbody>\n",
       "</table>\n",
       "<p>1000 rows × 11 columns</p>\n",
       "</div>"
      ],
      "text/plain": [
       "             Branch   City  Customer type  Gender  Product line  Unit price  \\\n",
       "Invoice ID                                                                    \n",
       "750-67-8428   False  False          False   False         False       False   \n",
       "226-31-3081   False  False          False   False         False       False   \n",
       "631-41-3108   False  False          False   False         False       False   \n",
       "123-19-1176   False  False          False   False         False       False   \n",
       "373-73-7910   False  False          False   False         False       False   \n",
       "...             ...    ...            ...     ...           ...         ...   \n",
       "233-67-5758   False  False          False   False         False       False   \n",
       "303-96-2227   False  False          False   False         False       False   \n",
       "727-02-1313   False  False          False   False         False       False   \n",
       "347-56-2442   False  False          False   False         False       False   \n",
       "849-09-3807   False  False          False   False         False       False   \n",
       "\n",
       "             Quantity   Date   Time  Payment  Rating  \n",
       "Invoice ID                                            \n",
       "750-67-8428     False  False  False    False   False  \n",
       "226-31-3081     False  False  False    False   False  \n",
       "631-41-3108     False  False  False    False   False  \n",
       "123-19-1176     False  False  False    False   False  \n",
       "373-73-7910     False  False  False    False   False  \n",
       "...               ...    ...    ...      ...     ...  \n",
       "233-67-5758     False  False  False    False   False  \n",
       "303-96-2227     False  False  False    False   False  \n",
       "727-02-1313     False  False  False    False   False  \n",
       "347-56-2442     False  False  False    False   False  \n",
       "849-09-3807     False  False  False    False   False  \n",
       "\n",
       "[1000 rows x 11 columns]"
      ]
     },
     "execution_count": 11,
     "metadata": {},
     "output_type": "execute_result"
    }
   ],
   "source": [
    "sales_df.isnull()"
   ]
  },
  {
   "cell_type": "markdown",
   "id": "74107b55",
   "metadata": {},
   "source": [
    "Using `.sum()` operation to sum up the amount of null values in the data set according to the column"
   ]
  },
  {
   "cell_type": "code",
   "execution_count": 12,
   "id": "78b3068f",
   "metadata": {},
   "outputs": [
    {
     "data": {
      "text/plain": [
       "Branch           0\n",
       "City             0\n",
       "Customer type    0\n",
       "Gender           0\n",
       "Product line     0\n",
       "Unit price       0\n",
       "Quantity         0\n",
       "Date             0\n",
       "Time             0\n",
       "Payment          0\n",
       "Rating           0\n",
       "dtype: int64"
      ]
     },
     "execution_count": 12,
     "metadata": {},
     "output_type": "execute_result"
    }
   ],
   "source": [
    "sales_df.isnull().sum()"
   ]
  },
  {
   "cell_type": "markdown",
   "id": "c63e5dc3",
   "metadata": {},
   "source": [
    "The dataset has no missing values"
   ]
  },
  {
   "cell_type": "markdown",
   "id": "06ffeee4",
   "metadata": {},
   "source": [
    "#### Identify the number of data type in each column"
   ]
  },
  {
   "cell_type": "code",
   "execution_count": 13,
   "id": "160f502c",
   "metadata": {},
   "outputs": [
    {
     "data": {
      "text/plain": [
       "Branch             3\n",
       "City               3\n",
       "Customer type      2\n",
       "Gender             2\n",
       "Product line       6\n",
       "Unit price       943\n",
       "Quantity          10\n",
       "Date              89\n",
       "Time             506\n",
       "Payment            3\n",
       "Rating            61\n",
       "dtype: int64"
      ]
     },
     "execution_count": 13,
     "metadata": {},
     "output_type": "execute_result"
    }
   ],
   "source": [
    "sales_df.nunique()"
   ]
  },
  {
   "cell_type": "markdown",
   "id": "19fdaf67",
   "metadata": {},
   "source": [
    "`.nunique()` operation shows that there are:\n",
    "- 3 branches of the supermarket at 3 different cities. \n",
    "- 2 types of customers with 2 different genders\n",
    "- 6 product lines categories\n",
    "- 3 types of payment used in the supermarket"
   ]
  },
  {
   "cell_type": "markdown",
   "id": "2f24f622",
   "metadata": {},
   "source": [
    "### 2. Supermarket cost calculation"
   ]
  },
  {
   "cell_type": "markdown",
   "id": "6161e83c",
   "metadata": {},
   "source": [
    "#### Changing the unit price type"
   ]
  },
  {
   "cell_type": "code",
   "execution_count": 14,
   "id": "158b5fe8",
   "metadata": {},
   "outputs": [
    {
     "data": {
      "text/plain": [
       "dtype('O')"
      ]
     },
     "execution_count": 14,
     "metadata": {},
     "output_type": "execute_result"
    }
   ],
   "source": [
    "sales_df['Unit price'].dtypes"
   ]
  },
  {
   "cell_type": "markdown",
   "id": "5c773261",
   "metadata": {},
   "source": [
    "Using `.apply()` operation to change the data of `Unit price` by stripping the Dollar sign and changing data type from object to float"
   ]
  },
  {
   "cell_type": "code",
   "execution_count": 15,
   "id": "5ce5253e",
   "metadata": {},
   "outputs": [
    {
     "data": {
      "text/plain": [
       "dtype('float64')"
      ]
     },
     "execution_count": 15,
     "metadata": {},
     "output_type": "execute_result"
    }
   ],
   "source": [
    "sales_df['Unit price'] = sales_df['Unit price'].apply(lambda x: float(x.strip('$')))\n",
    "sales_df['Unit price'].dtypes"
   ]
  },
  {
   "cell_type": "markdown",
   "id": "be2e3883",
   "metadata": {},
   "source": [
    "#### Creating `class` function for `Gross_Calc`"
   ]
  },
  {
   "cell_type": "code",
   "execution_count": 16,
   "id": "758c5006",
   "metadata": {},
   "outputs": [],
   "source": [
    "class Gross_Calc:\n",
    "    tax = 0.05\n",
    "    \n",
    "    def __init__(self, unit_price=0, quantity=0):\n",
    "        self.unit_price = unit_price\n",
    "        self.quantity = quantity\n",
    "        \n",
    "    def cost_of_goods(self):\n",
    "        cost_of_goods = self.unit_price * self.quantity\n",
    "        return round(cost_of_goods,2)\n",
    "        \n",
    "    def total_price(self):\n",
    "        total_tax = 1 + self.tax\n",
    "        total_price = self.cost_of_goods() * total_tax\n",
    "        return round(total_price,2)\n",
    "    \n",
    "    def gross_margin(self):\n",
    "        gross_margin = (self.total_price() - self.cost_of_goods())/self.total_price() * 100\n",
    "        return round(gross_margin,2)\n",
    "    \n",
    "    def gross_income(self):\n",
    "        gross_income = self.total_price() - self.cost_of_goods()\n",
    "        return round(gross_income,2)"
   ]
  },
  {
   "cell_type": "markdown",
   "id": "d8df73e2",
   "metadata": {},
   "source": [
    "#### Calculating the `Cost of goods sold`, `Total price`, `Gross margin (%)`, and `Gross income`"
   ]
  },
  {
   "cell_type": "code",
   "execution_count": 17,
   "id": "3d591be6",
   "metadata": {},
   "outputs": [],
   "source": [
    "#assigning variable to the parameters needed for class function\n",
    "price_unit = sales_df['Unit price']\n",
    "quantity_unit = sales_df['Quantity']\n",
    "\n",
    "#assigning calc to the class function\n",
    "calc = Gross_Calc(price_unit, quantity_unit)\n",
    "\n",
    "#creating new columns and assigning to the respective define function\n",
    "sales_df['Cost of goods sold'] = calc.cost_of_goods()\n",
    "sales_df['Total price'] = calc.total_price()\n",
    "sales_df['Gross margin (%)'] = calc.gross_margin()\n",
    "sales_df['Gross income'] = calc.gross_income()\n"
   ]
  },
  {
   "cell_type": "code",
   "execution_count": 18,
   "id": "f2d82916",
   "metadata": {},
   "outputs": [
    {
     "data": {
      "text/html": [
       "<div>\n",
       "<style scoped>\n",
       "    .dataframe tbody tr th:only-of-type {\n",
       "        vertical-align: middle;\n",
       "    }\n",
       "\n",
       "    .dataframe tbody tr th {\n",
       "        vertical-align: top;\n",
       "    }\n",
       "\n",
       "    .dataframe thead th {\n",
       "        text-align: right;\n",
       "    }\n",
       "</style>\n",
       "<table border=\"1\" class=\"dataframe\">\n",
       "  <thead>\n",
       "    <tr style=\"text-align: right;\">\n",
       "      <th></th>\n",
       "      <th>Branch</th>\n",
       "      <th>City</th>\n",
       "      <th>Customer type</th>\n",
       "      <th>Gender</th>\n",
       "      <th>Product line</th>\n",
       "      <th>Unit price</th>\n",
       "      <th>Quantity</th>\n",
       "      <th>Date</th>\n",
       "      <th>Time</th>\n",
       "      <th>Payment</th>\n",
       "      <th>Rating</th>\n",
       "      <th>Cost of goods sold</th>\n",
       "      <th>Total price</th>\n",
       "      <th>Gross margin (%)</th>\n",
       "      <th>Gross income</th>\n",
       "    </tr>\n",
       "    <tr>\n",
       "      <th>Invoice ID</th>\n",
       "      <th></th>\n",
       "      <th></th>\n",
       "      <th></th>\n",
       "      <th></th>\n",
       "      <th></th>\n",
       "      <th></th>\n",
       "      <th></th>\n",
       "      <th></th>\n",
       "      <th></th>\n",
       "      <th></th>\n",
       "      <th></th>\n",
       "      <th></th>\n",
       "      <th></th>\n",
       "      <th></th>\n",
       "      <th></th>\n",
       "    </tr>\n",
       "  </thead>\n",
       "  <tbody>\n",
       "    <tr>\n",
       "      <th>750-67-8428</th>\n",
       "      <td>A</td>\n",
       "      <td>Yangon</td>\n",
       "      <td>Member</td>\n",
       "      <td>Female</td>\n",
       "      <td>Health and beauty</td>\n",
       "      <td>74.69</td>\n",
       "      <td>7</td>\n",
       "      <td>1/5/2019</td>\n",
       "      <td>13:08</td>\n",
       "      <td>Ewallet</td>\n",
       "      <td>9.1</td>\n",
       "      <td>522.83</td>\n",
       "      <td>548.97</td>\n",
       "      <td>4.76</td>\n",
       "      <td>26.14</td>\n",
       "    </tr>\n",
       "    <tr>\n",
       "      <th>226-31-3081</th>\n",
       "      <td>C</td>\n",
       "      <td>Naypyitaw</td>\n",
       "      <td>Normal</td>\n",
       "      <td>Female</td>\n",
       "      <td>Electronic accessories</td>\n",
       "      <td>15.28</td>\n",
       "      <td>5</td>\n",
       "      <td>3/8/2019</td>\n",
       "      <td>10:29</td>\n",
       "      <td>Cash</td>\n",
       "      <td>9.6</td>\n",
       "      <td>76.40</td>\n",
       "      <td>80.22</td>\n",
       "      <td>4.76</td>\n",
       "      <td>3.82</td>\n",
       "    </tr>\n",
       "    <tr>\n",
       "      <th>631-41-3108</th>\n",
       "      <td>A</td>\n",
       "      <td>Yangon</td>\n",
       "      <td>Normal</td>\n",
       "      <td>Male</td>\n",
       "      <td>Home and lifestyle</td>\n",
       "      <td>46.33</td>\n",
       "      <td>7</td>\n",
       "      <td>3/3/2019</td>\n",
       "      <td>13:23</td>\n",
       "      <td>Credit card</td>\n",
       "      <td>7.4</td>\n",
       "      <td>324.31</td>\n",
       "      <td>340.53</td>\n",
       "      <td>4.76</td>\n",
       "      <td>16.22</td>\n",
       "    </tr>\n",
       "    <tr>\n",
       "      <th>123-19-1176</th>\n",
       "      <td>A</td>\n",
       "      <td>Yangon</td>\n",
       "      <td>Member</td>\n",
       "      <td>Male</td>\n",
       "      <td>Health and beauty</td>\n",
       "      <td>58.22</td>\n",
       "      <td>8</td>\n",
       "      <td>1/27/2019</td>\n",
       "      <td>20:33</td>\n",
       "      <td>Ewallet</td>\n",
       "      <td>8.4</td>\n",
       "      <td>465.76</td>\n",
       "      <td>489.05</td>\n",
       "      <td>4.76</td>\n",
       "      <td>23.29</td>\n",
       "    </tr>\n",
       "    <tr>\n",
       "      <th>373-73-7910</th>\n",
       "      <td>A</td>\n",
       "      <td>Yangon</td>\n",
       "      <td>Normal</td>\n",
       "      <td>Male</td>\n",
       "      <td>Sports and travel</td>\n",
       "      <td>86.31</td>\n",
       "      <td>7</td>\n",
       "      <td>2/8/2019</td>\n",
       "      <td>10:37</td>\n",
       "      <td>Ewallet</td>\n",
       "      <td>5.3</td>\n",
       "      <td>604.17</td>\n",
       "      <td>634.38</td>\n",
       "      <td>4.76</td>\n",
       "      <td>30.21</td>\n",
       "    </tr>\n",
       "  </tbody>\n",
       "</table>\n",
       "</div>"
      ],
      "text/plain": [
       "            Branch       City Customer type  Gender            Product line  \\\n",
       "Invoice ID                                                                    \n",
       "750-67-8428      A     Yangon        Member  Female       Health and beauty   \n",
       "226-31-3081      C  Naypyitaw        Normal  Female  Electronic accessories   \n",
       "631-41-3108      A     Yangon        Normal    Male      Home and lifestyle   \n",
       "123-19-1176      A     Yangon        Member    Male       Health and beauty   \n",
       "373-73-7910      A     Yangon        Normal    Male       Sports and travel   \n",
       "\n",
       "             Unit price  Quantity       Date   Time      Payment  Rating  \\\n",
       "Invoice ID                                                                 \n",
       "750-67-8428       74.69         7   1/5/2019  13:08      Ewallet     9.1   \n",
       "226-31-3081       15.28         5   3/8/2019  10:29         Cash     9.6   \n",
       "631-41-3108       46.33         7   3/3/2019  13:23  Credit card     7.4   \n",
       "123-19-1176       58.22         8  1/27/2019  20:33      Ewallet     8.4   \n",
       "373-73-7910       86.31         7   2/8/2019  10:37      Ewallet     5.3   \n",
       "\n",
       "             Cost of goods sold  Total price  Gross margin (%)  Gross income  \n",
       "Invoice ID                                                                    \n",
       "750-67-8428              522.83       548.97              4.76         26.14  \n",
       "226-31-3081               76.40        80.22              4.76          3.82  \n",
       "631-41-3108              324.31       340.53              4.76         16.22  \n",
       "123-19-1176              465.76       489.05              4.76         23.29  \n",
       "373-73-7910              604.17       634.38              4.76         30.21  "
      ]
     },
     "execution_count": 18,
     "metadata": {},
     "output_type": "execute_result"
    }
   ],
   "source": [
    "sales_df.head()"
   ]
  },
  {
   "cell_type": "markdown",
   "id": "58f1c644",
   "metadata": {},
   "source": [
    "### 3. Analyzing the calculated data"
   ]
  },
  {
   "cell_type": "markdown",
   "id": "c3aaabf9",
   "metadata": {},
   "source": [
    "#### Statistical approach"
   ]
  },
  {
   "cell_type": "markdown",
   "id": "9072091d",
   "metadata": {},
   "source": [
    "`Gross income` is the total income the supermarket receives before taxes, expenses, adjustments, exemptions, and deductions.\n",
    "\n",
    "`.describe()` operation calculates the supermarket `Gross income` from the data set. "
   ]
  },
  {
   "cell_type": "code",
   "execution_count": 19,
   "id": "fe50051f",
   "metadata": {},
   "outputs": [
    {
     "data": {
      "text/plain": [
       "count    1000.000000\n",
       "mean       15.379580\n",
       "std        11.708943\n",
       "min         0.510000\n",
       "25%         5.927500\n",
       "50%        12.090000\n",
       "75%        22.445000\n",
       "max        49.650000\n",
       "Name: Gross income, dtype: float64"
      ]
     },
     "execution_count": 19,
     "metadata": {},
     "output_type": "execute_result"
    }
   ],
   "source": [
    "sales_df['Gross income'].describe()"
   ]
  },
  {
   "cell_type": "markdown",
   "id": "2aeadd0f",
   "metadata": {},
   "source": [
    "Plotting a box chart using `.plot()` operation where kind as 'box', color specification in 'purple', figure size is 12 by 12, and y-axis labelled as 'Gross Income'."
   ]
  },
  {
   "cell_type": "code",
   "execution_count": 20,
   "id": "5d095cb3",
   "metadata": {},
   "outputs": [
    {
     "data": {
      "text/plain": [
       "<AxesSubplot:ylabel='Gross Income'>"
      ]
     },
     "execution_count": 20,
     "metadata": {},
     "output_type": "execute_result"
    },
    {
     "data": {
      "image/png": "[encoded data removed]",
      "text/plain": [
       "<Figure size 864x864 with 1 Axes>"
      ]
     },
     "metadata": {
      "needs_background": "light"
     },
     "output_type": "display_data"
    }
   ],
   "source": [
    "sales_df['Gross income'].plot(kind='box',color='purple', figsize=[12,12], ylabel='Gross Income')"
   ]
  },
  {
   "cell_type": "markdown",
   "id": "bb188c76",
   "metadata": {},
   "source": [
    "Based on observation:\n",
    "- The highest gross income the supermarket obtained among the customers is 49.65 Dollar.\n",
    "- The average gross income obtained per customer is 15.38 Dollar.\n",
    "- Half of the customers contributed 12.09 Dollar to the gross income.\n",
    "- The total gross income of this data set is 15379.58 Dollar"
   ]
  },
  {
   "cell_type": "markdown",
   "id": "017d90a7",
   "metadata": {},
   "source": [
    "#### Relationship between product value, sold item, and gross income"
   ]
  },
  {
   "cell_type": "markdown",
   "id": "0e696874",
   "metadata": {},
   "source": [
    "The `.groupby()` operation helps to observe the relationships between the product value, sold item, and gross income obtained. Using `.groupby()` operation to group the data by `Product line`,`max()` operation to find the maximum value of numerical value, and `sort_values()` operation to sort `Unit price` in descending order."
   ]
  },
  {
   "cell_type": "code",
   "execution_count": 37,
   "id": "a24b6cfe",
   "metadata": {},
   "outputs": [
    {
     "data": {
      "text/html": [
       "<div>\n",
       "<style scoped>\n",
       "    .dataframe tbody tr th:only-of-type {\n",
       "        vertical-align: middle;\n",
       "    }\n",
       "\n",
       "    .dataframe tbody tr th {\n",
       "        vertical-align: top;\n",
       "    }\n",
       "\n",
       "    .dataframe thead th {\n",
       "        text-align: right;\n",
       "    }\n",
       "</style>\n",
       "<table border=\"1\" class=\"dataframe\">\n",
       "  <thead>\n",
       "    <tr style=\"text-align: right;\">\n",
       "      <th></th>\n",
       "      <th>Unit price</th>\n",
       "      <th>Quantity</th>\n",
       "      <th>Gross income</th>\n",
       "      <th>Cost of goods sold</th>\n",
       "      <th>Total price</th>\n",
       "    </tr>\n",
       "    <tr>\n",
       "      <th>Product line</th>\n",
       "      <th></th>\n",
       "      <th></th>\n",
       "      <th></th>\n",
       "      <th></th>\n",
       "      <th></th>\n",
       "    </tr>\n",
       "  </thead>\n",
       "  <tbody>\n",
       "    <tr>\n",
       "      <th>Health and beauty</th>\n",
       "      <td>99.96</td>\n",
       "      <td>10</td>\n",
       "      <td>45.25</td>\n",
       "      <td>905.00</td>\n",
       "      <td>950.25</td>\n",
       "    </tr>\n",
       "    <tr>\n",
       "      <th>Sports and travel</th>\n",
       "      <td>99.96</td>\n",
       "      <td>10</td>\n",
       "      <td>47.72</td>\n",
       "      <td>954.40</td>\n",
       "      <td>1002.12</td>\n",
       "    </tr>\n",
       "    <tr>\n",
       "      <th>Home and lifestyle</th>\n",
       "      <td>99.92</td>\n",
       "      <td>10</td>\n",
       "      <td>48.75</td>\n",
       "      <td>975.00</td>\n",
       "      <td>1023.75</td>\n",
       "    </tr>\n",
       "    <tr>\n",
       "      <th>Fashion accessories</th>\n",
       "      <td>99.89</td>\n",
       "      <td>10</td>\n",
       "      <td>49.65</td>\n",
       "      <td>993.00</td>\n",
       "      <td>1042.65</td>\n",
       "    </tr>\n",
       "    <tr>\n",
       "      <th>Food and beverages</th>\n",
       "      <td>99.79</td>\n",
       "      <td>10</td>\n",
       "      <td>49.26</td>\n",
       "      <td>985.20</td>\n",
       "      <td>1034.46</td>\n",
       "    </tr>\n",
       "    <tr>\n",
       "      <th>Electronic accessories</th>\n",
       "      <td>99.73</td>\n",
       "      <td>10</td>\n",
       "      <td>44.88</td>\n",
       "      <td>897.57</td>\n",
       "      <td>942.45</td>\n",
       "    </tr>\n",
       "  </tbody>\n",
       "</table>\n",
       "</div>"
      ],
      "text/plain": [
       "                        Unit price  Quantity  Gross income  \\\n",
       "Product line                                                 \n",
       "Health and beauty            99.96        10         45.25   \n",
       "Sports and travel            99.96        10         47.72   \n",
       "Home and lifestyle           99.92        10         48.75   \n",
       "Fashion accessories          99.89        10         49.65   \n",
       "Food and beverages           99.79        10         49.26   \n",
       "Electronic accessories       99.73        10         44.88   \n",
       "\n",
       "                        Cost of goods sold  Total price  \n",
       "Product line                                             \n",
       "Health and beauty                   905.00       950.25  \n",
       "Sports and travel                   954.40      1002.12  \n",
       "Home and lifestyle                  975.00      1023.75  \n",
       "Fashion accessories                 993.00      1042.65  \n",
       "Food and beverages                  985.20      1034.46  \n",
       "Electronic accessories              897.57       942.45  "
      ]
     },
     "execution_count": 37,
     "metadata": {},
     "output_type": "execute_result"
    }
   ],
   "source": [
    "sales_df[['Product line','Unit price','Quantity','Gross income','Cost of goods sold','Total price']].groupby('Product line').max().sort_values('Unit price',ascending=False)"
   ]
  },
  {
   "cell_type": "markdown",
   "id": "00d01bbc",
   "metadata": {},
   "source": [
    "Based on the observation, the gross income is influence by the total price. The higher the total price paid by the customer, the higher the gross income obtained."
   ]
  },
  {
   "cell_type": "markdown",
   "id": "54058686",
   "metadata": {},
   "source": [
    "#### Relationship between gross income and location"
   ]
  },
  {
   "cell_type": "markdown",
   "id": "0d16f326",
   "metadata": {},
   "source": [
    "Using `.groupby()` operation to group the data by `City`, `sum()` operation to sum all numerical values in this case, `Gross income`, and `sort_values()` operation to sort sum values of `Gross income` in descending order."
   ]
  },
  {
   "cell_type": "code",
   "execution_count": 22,
   "id": "b7f9700c",
   "metadata": {},
   "outputs": [
    {
     "data": {
      "text/html": [
       "<div>\n",
       "<style scoped>\n",
       "    .dataframe tbody tr th:only-of-type {\n",
       "        vertical-align: middle;\n",
       "    }\n",
       "\n",
       "    .dataframe tbody tr th {\n",
       "        vertical-align: top;\n",
       "    }\n",
       "\n",
       "    .dataframe thead th {\n",
       "        text-align: right;\n",
       "    }\n",
       "</style>\n",
       "<table border=\"1\" class=\"dataframe\">\n",
       "  <thead>\n",
       "    <tr style=\"text-align: right;\">\n",
       "      <th></th>\n",
       "      <th>Gross income</th>\n",
       "    </tr>\n",
       "    <tr>\n",
       "      <th>City</th>\n",
       "      <th></th>\n",
       "    </tr>\n",
       "  </thead>\n",
       "  <tbody>\n",
       "    <tr>\n",
       "      <th>Naypyitaw</th>\n",
       "      <td>5265.23</td>\n",
       "    </tr>\n",
       "    <tr>\n",
       "      <th>Yangon</th>\n",
       "      <td>5057.18</td>\n",
       "    </tr>\n",
       "    <tr>\n",
       "      <th>Mandalay</th>\n",
       "      <td>5057.17</td>\n",
       "    </tr>\n",
       "  </tbody>\n",
       "</table>\n",
       "</div>"
      ],
      "text/plain": [
       "           Gross income\n",
       "City                   \n",
       "Naypyitaw       5265.23\n",
       "Yangon          5057.18\n",
       "Mandalay        5057.17"
      ]
     },
     "execution_count": 22,
     "metadata": {},
     "output_type": "execute_result"
    }
   ],
   "source": [
    "sales_df[['City','Gross income']].groupby('City').sum().sort_values('Gross income', ascending=False)"
   ]
  },
  {
   "cell_type": "markdown",
   "id": "44c06748",
   "metadata": {},
   "source": [
    "Plotting a bar chart using `.plot()` operation where kind as 'bar', x-axis labelled as 'Cities', y-axis labelled as 'Total Gross Income', specified the color in purple, and adjusting the figure size into 10 by 8."
   ]
  },
  {
   "cell_type": "code",
   "execution_count": 23,
   "id": "9d82f526",
   "metadata": {},
   "outputs": [
    {
     "data": {
      "text/plain": [
       "<AxesSubplot:xlabel='Cities', ylabel='Total Gross Income'>"
      ]
     },
     "execution_count": 23,
     "metadata": {},
     "output_type": "execute_result"
    },
    {
     "data": {
      "image/png": "[encoded data removed]",
      "text/plain": [
       "<Figure size 720x576 with 1 Axes>"
      ]
     },
     "metadata": {
      "needs_background": "light"
     },
     "output_type": "display_data"
    }
   ],
   "source": [
    "sales_df[['City','Gross income']].groupby('City').sum().plot(kind='bar',xlabel='Cities',ylabel='Total Gross Income',color='purple',figsize=[10,8])"
   ]
  },
  {
   "cell_type": "markdown",
   "id": "a3c365bb",
   "metadata": {},
   "source": [
    "The bar chart above shows that the `Branch` at `Naypyitaw` obtained the highest sum of `Gross income` compared to other cities. The `Gross income` for `City` at `Mandalay` and `Yangon` is almost equal."
   ]
  },
  {
   "cell_type": "markdown",
   "id": "c929d552",
   "metadata": {},
   "source": [
    "#### Relationship between gross income and date"
   ]
  },
  {
   "cell_type": "markdown",
   "id": "8068d7b1",
   "metadata": {},
   "source": [
    "Changing the `Date` into datetime format"
   ]
  },
  {
   "cell_type": "code",
   "execution_count": 24,
   "id": "af958fa1",
   "metadata": {},
   "outputs": [
    {
     "data": {
      "text/plain": [
       "Branch                        object\n",
       "City                          object\n",
       "Customer type                 object\n",
       "Gender                        object\n",
       "Product line                  object\n",
       "Unit price                   float64\n",
       "Quantity                       int64\n",
       "Date                  datetime64[ns]\n",
       "Time                          object\n",
       "Payment                       object\n",
       "Rating                       float64\n",
       "Cost of goods sold           float64\n",
       "Total price                  float64\n",
       "Gross margin (%)             float64\n",
       "Gross income                 float64\n",
       "dtype: object"
      ]
     },
     "execution_count": 24,
     "metadata": {},
     "output_type": "execute_result"
    }
   ],
   "source": [
    "sales_df['Date'] = pd.to_datetime(sales_df['Date'])\n",
    "sales_df.dtypes"
   ]
  },
  {
   "cell_type": "code",
   "execution_count": 25,
   "id": "2f777081",
   "metadata": {},
   "outputs": [
    {
     "data": {
      "text/html": [
       "<div>\n",
       "<style scoped>\n",
       "    .dataframe tbody tr th:only-of-type {\n",
       "        vertical-align: middle;\n",
       "    }\n",
       "\n",
       "    .dataframe tbody tr th {\n",
       "        vertical-align: top;\n",
       "    }\n",
       "\n",
       "    .dataframe thead th {\n",
       "        text-align: right;\n",
       "    }\n",
       "</style>\n",
       "<table border=\"1\" class=\"dataframe\">\n",
       "  <thead>\n",
       "    <tr style=\"text-align: right;\">\n",
       "      <th></th>\n",
       "      <th>Branch</th>\n",
       "      <th>City</th>\n",
       "      <th>Customer type</th>\n",
       "      <th>Gender</th>\n",
       "      <th>Product line</th>\n",
       "      <th>Unit price</th>\n",
       "      <th>Quantity</th>\n",
       "      <th>Date</th>\n",
       "      <th>Time</th>\n",
       "      <th>Payment</th>\n",
       "      <th>Rating</th>\n",
       "      <th>Cost of goods sold</th>\n",
       "      <th>Total price</th>\n",
       "      <th>Gross margin (%)</th>\n",
       "      <th>Gross income</th>\n",
       "    </tr>\n",
       "    <tr>\n",
       "      <th>Invoice ID</th>\n",
       "      <th></th>\n",
       "      <th></th>\n",
       "      <th></th>\n",
       "      <th></th>\n",
       "      <th></th>\n",
       "      <th></th>\n",
       "      <th></th>\n",
       "      <th></th>\n",
       "      <th></th>\n",
       "      <th></th>\n",
       "      <th></th>\n",
       "      <th></th>\n",
       "      <th></th>\n",
       "      <th></th>\n",
       "      <th></th>\n",
       "    </tr>\n",
       "  </thead>\n",
       "  <tbody>\n",
       "    <tr>\n",
       "      <th>750-67-8428</th>\n",
       "      <td>A</td>\n",
       "      <td>Yangon</td>\n",
       "      <td>Member</td>\n",
       "      <td>Female</td>\n",
       "      <td>Health and beauty</td>\n",
       "      <td>74.69</td>\n",
       "      <td>7</td>\n",
       "      <td>2019-01-05</td>\n",
       "      <td>13:08</td>\n",
       "      <td>Ewallet</td>\n",
       "      <td>9.1</td>\n",
       "      <td>522.83</td>\n",
       "      <td>548.97</td>\n",
       "      <td>4.76</td>\n",
       "      <td>26.14</td>\n",
       "    </tr>\n",
       "    <tr>\n",
       "      <th>226-31-3081</th>\n",
       "      <td>C</td>\n",
       "      <td>Naypyitaw</td>\n",
       "      <td>Normal</td>\n",
       "      <td>Female</td>\n",
       "      <td>Electronic accessories</td>\n",
       "      <td>15.28</td>\n",
       "      <td>5</td>\n",
       "      <td>2019-03-08</td>\n",
       "      <td>10:29</td>\n",
       "      <td>Cash</td>\n",
       "      <td>9.6</td>\n",
       "      <td>76.40</td>\n",
       "      <td>80.22</td>\n",
       "      <td>4.76</td>\n",
       "      <td>3.82</td>\n",
       "    </tr>\n",
       "    <tr>\n",
       "      <th>631-41-3108</th>\n",
       "      <td>A</td>\n",
       "      <td>Yangon</td>\n",
       "      <td>Normal</td>\n",
       "      <td>Male</td>\n",
       "      <td>Home and lifestyle</td>\n",
       "      <td>46.33</td>\n",
       "      <td>7</td>\n",
       "      <td>2019-03-03</td>\n",
       "      <td>13:23</td>\n",
       "      <td>Credit card</td>\n",
       "      <td>7.4</td>\n",
       "      <td>324.31</td>\n",
       "      <td>340.53</td>\n",
       "      <td>4.76</td>\n",
       "      <td>16.22</td>\n",
       "    </tr>\n",
       "    <tr>\n",
       "      <th>123-19-1176</th>\n",
       "      <td>A</td>\n",
       "      <td>Yangon</td>\n",
       "      <td>Member</td>\n",
       "      <td>Male</td>\n",
       "      <td>Health and beauty</td>\n",
       "      <td>58.22</td>\n",
       "      <td>8</td>\n",
       "      <td>2019-01-27</td>\n",
       "      <td>20:33</td>\n",
       "      <td>Ewallet</td>\n",
       "      <td>8.4</td>\n",
       "      <td>465.76</td>\n",
       "      <td>489.05</td>\n",
       "      <td>4.76</td>\n",
       "      <td>23.29</td>\n",
       "    </tr>\n",
       "    <tr>\n",
       "      <th>373-73-7910</th>\n",
       "      <td>A</td>\n",
       "      <td>Yangon</td>\n",
       "      <td>Normal</td>\n",
       "      <td>Male</td>\n",
       "      <td>Sports and travel</td>\n",
       "      <td>86.31</td>\n",
       "      <td>7</td>\n",
       "      <td>2019-02-08</td>\n",
       "      <td>10:37</td>\n",
       "      <td>Ewallet</td>\n",
       "      <td>5.3</td>\n",
       "      <td>604.17</td>\n",
       "      <td>634.38</td>\n",
       "      <td>4.76</td>\n",
       "      <td>30.21</td>\n",
       "    </tr>\n",
       "  </tbody>\n",
       "</table>\n",
       "</div>"
      ],
      "text/plain": [
       "            Branch       City Customer type  Gender            Product line  \\\n",
       "Invoice ID                                                                    \n",
       "750-67-8428      A     Yangon        Member  Female       Health and beauty   \n",
       "226-31-3081      C  Naypyitaw        Normal  Female  Electronic accessories   \n",
       "631-41-3108      A     Yangon        Normal    Male      Home and lifestyle   \n",
       "123-19-1176      A     Yangon        Member    Male       Health and beauty   \n",
       "373-73-7910      A     Yangon        Normal    Male       Sports and travel   \n",
       "\n",
       "             Unit price  Quantity       Date   Time      Payment  Rating  \\\n",
       "Invoice ID                                                                 \n",
       "750-67-8428       74.69         7 2019-01-05  13:08      Ewallet     9.1   \n",
       "226-31-3081       15.28         5 2019-03-08  10:29         Cash     9.6   \n",
       "631-41-3108       46.33         7 2019-03-03  13:23  Credit card     7.4   \n",
       "123-19-1176       58.22         8 2019-01-27  20:33      Ewallet     8.4   \n",
       "373-73-7910       86.31         7 2019-02-08  10:37      Ewallet     5.3   \n",
       "\n",
       "             Cost of goods sold  Total price  Gross margin (%)  Gross income  \n",
       "Invoice ID                                                                    \n",
       "750-67-8428              522.83       548.97              4.76         26.14  \n",
       "226-31-3081               76.40        80.22              4.76          3.82  \n",
       "631-41-3108              324.31       340.53              4.76         16.22  \n",
       "123-19-1176              465.76       489.05              4.76         23.29  \n",
       "373-73-7910              604.17       634.38              4.76         30.21  "
      ]
     },
     "execution_count": 25,
     "metadata": {},
     "output_type": "execute_result"
    }
   ],
   "source": [
    "sales_df.head()"
   ]
  },
  {
   "cell_type": "markdown",
   "id": "82a1d49b",
   "metadata": {},
   "source": [
    "Create a copy of `sales_df` dataframe as `sales_df_date` dataframe containing dataset of `Date` and `Gross income`"
   ]
  },
  {
   "cell_type": "code",
   "execution_count": 26,
   "id": "19dbb9f0",
   "metadata": {},
   "outputs": [],
   "source": [
    "sales_df_date = sales_df[['Date','Gross income']]"
   ]
  },
  {
   "cell_type": "code",
   "execution_count": 27,
   "id": "2c58d2b0",
   "metadata": {},
   "outputs": [
    {
     "data": {
      "text/html": [
       "<div>\n",
       "<style scoped>\n",
       "    .dataframe tbody tr th:only-of-type {\n",
       "        vertical-align: middle;\n",
       "    }\n",
       "\n",
       "    .dataframe tbody tr th {\n",
       "        vertical-align: top;\n",
       "    }\n",
       "\n",
       "    .dataframe thead th {\n",
       "        text-align: right;\n",
       "    }\n",
       "</style>\n",
       "<table border=\"1\" class=\"dataframe\">\n",
       "  <thead>\n",
       "    <tr style=\"text-align: right;\">\n",
       "      <th></th>\n",
       "      <th>Date</th>\n",
       "      <th>Gross income</th>\n",
       "    </tr>\n",
       "    <tr>\n",
       "      <th>Invoice ID</th>\n",
       "      <th></th>\n",
       "      <th></th>\n",
       "    </tr>\n",
       "  </thead>\n",
       "  <tbody>\n",
       "    <tr>\n",
       "      <th>750-67-8428</th>\n",
       "      <td>2019-01-05</td>\n",
       "      <td>26.14</td>\n",
       "    </tr>\n",
       "    <tr>\n",
       "      <th>226-31-3081</th>\n",
       "      <td>2019-03-08</td>\n",
       "      <td>3.82</td>\n",
       "    </tr>\n",
       "    <tr>\n",
       "      <th>631-41-3108</th>\n",
       "      <td>2019-03-03</td>\n",
       "      <td>16.22</td>\n",
       "    </tr>\n",
       "    <tr>\n",
       "      <th>123-19-1176</th>\n",
       "      <td>2019-01-27</td>\n",
       "      <td>23.29</td>\n",
       "    </tr>\n",
       "    <tr>\n",
       "      <th>373-73-7910</th>\n",
       "      <td>2019-02-08</td>\n",
       "      <td>30.21</td>\n",
       "    </tr>\n",
       "  </tbody>\n",
       "</table>\n",
       "</div>"
      ],
      "text/plain": [
       "                  Date  Gross income\n",
       "Invoice ID                          \n",
       "750-67-8428 2019-01-05         26.14\n",
       "226-31-3081 2019-03-08          3.82\n",
       "631-41-3108 2019-03-03         16.22\n",
       "123-19-1176 2019-01-27         23.29\n",
       "373-73-7910 2019-02-08         30.21"
      ]
     },
     "execution_count": 27,
     "metadata": {},
     "output_type": "execute_result"
    }
   ],
   "source": [
    "sales_df_date.head()"
   ]
  },
  {
   "cell_type": "markdown",
   "id": "fa6fcfc1",
   "metadata": {},
   "source": [
    "Creating `Day` column containing data of 'day of year' using `.dt.dayofyear` operation based on `Date`."
   ]
  },
  {
   "cell_type": "code",
   "execution_count": 28,
   "id": "24746363",
   "metadata": {},
   "outputs": [
    {
     "name": "stderr",
     "output_type": "stream",
     "text": [
      "<ipython-input-28-0640719f59e6>:1: SettingWithCopyWarning: \n",
      "A value is trying to be set on a copy of a slice from a DataFrame.\n",
      "Try using .loc[row_indexer,col_indexer] = value instead\n",
      "\n",
      "See the caveats in the documentation: https://pandas.pydata.org/pandas-docs/stable/user_guide/indexing.html#returning-a-view-versus-a-copy\n",
      "  sales_df_date['Day'] = pd.to_datetime(sales_df_date['Date']).dt.dayofyear\n"
     ]
    }
   ],
   "source": [
    "sales_df_date['Day'] = pd.to_datetime(sales_df_date['Date']).dt.dayofyear"
   ]
  },
  {
   "cell_type": "markdown",
   "id": "1e58a17e",
   "metadata": {},
   "source": [
    "Using `sort_values()` operation to sort `Day`"
   ]
  },
  {
   "cell_type": "code",
   "execution_count": 29,
   "id": "2e7349b1",
   "metadata": {},
   "outputs": [
    {
     "data": {
      "text/html": [
       "<div>\n",
       "<style scoped>\n",
       "    .dataframe tbody tr th:only-of-type {\n",
       "        vertical-align: middle;\n",
       "    }\n",
       "\n",
       "    .dataframe tbody tr th {\n",
       "        vertical-align: top;\n",
       "    }\n",
       "\n",
       "    .dataframe thead th {\n",
       "        text-align: right;\n",
       "    }\n",
       "</style>\n",
       "<table border=\"1\" class=\"dataframe\">\n",
       "  <thead>\n",
       "    <tr style=\"text-align: right;\">\n",
       "      <th></th>\n",
       "      <th>Date</th>\n",
       "      <th>Gross income</th>\n",
       "      <th>Day</th>\n",
       "    </tr>\n",
       "    <tr>\n",
       "      <th>Invoice ID</th>\n",
       "      <th></th>\n",
       "      <th></th>\n",
       "      <th></th>\n",
       "    </tr>\n",
       "  </thead>\n",
       "  <tbody>\n",
       "    <tr>\n",
       "      <th>770-42-8960</th>\n",
       "      <td>2019-01-01</td>\n",
       "      <td>8.45</td>\n",
       "      <td>1</td>\n",
       "    </tr>\n",
       "    <tr>\n",
       "      <th>651-88-7328</th>\n",
       "      <td>2019-01-01</td>\n",
       "      <td>29.58</td>\n",
       "      <td>1</td>\n",
       "    </tr>\n",
       "    <tr>\n",
       "      <th>530-90-9855</th>\n",
       "      <td>2019-01-01</td>\n",
       "      <td>19.04</td>\n",
       "      <td>1</td>\n",
       "    </tr>\n",
       "    <tr>\n",
       "      <th>182-52-7000</th>\n",
       "      <td>2019-01-01</td>\n",
       "      <td>5.41</td>\n",
       "      <td>1</td>\n",
       "    </tr>\n",
       "    <tr>\n",
       "      <th>133-14-7229</th>\n",
       "      <td>2019-01-01</td>\n",
       "      <td>6.29</td>\n",
       "      <td>1</td>\n",
       "    </tr>\n",
       "    <tr>\n",
       "      <th>...</th>\n",
       "      <td>...</td>\n",
       "      <td>...</td>\n",
       "      <td>...</td>\n",
       "    </tr>\n",
       "    <tr>\n",
       "      <th>743-04-1105</th>\n",
       "      <td>2019-03-30</td>\n",
       "      <td>43.75</td>\n",
       "      <td>89</td>\n",
       "    </tr>\n",
       "    <tr>\n",
       "      <th>115-38-7388</th>\n",
       "      <td>2019-03-30</td>\n",
       "      <td>4.07</td>\n",
       "      <td>89</td>\n",
       "    </tr>\n",
       "    <tr>\n",
       "      <th>364-34-2972</th>\n",
       "      <td>2019-03-30</td>\n",
       "      <td>14.52</td>\n",
       "      <td>89</td>\n",
       "    </tr>\n",
       "    <tr>\n",
       "      <th>361-85-2571</th>\n",
       "      <td>2019-03-30</td>\n",
       "      <td>22.37</td>\n",
       "      <td>89</td>\n",
       "    </tr>\n",
       "    <tr>\n",
       "      <th>676-39-6028</th>\n",
       "      <td>2019-03-30</td>\n",
       "      <td>16.11</td>\n",
       "      <td>89</td>\n",
       "    </tr>\n",
       "  </tbody>\n",
       "</table>\n",
       "<p>1000 rows × 3 columns</p>\n",
       "</div>"
      ],
      "text/plain": [
       "                  Date  Gross income  Day\n",
       "Invoice ID                               \n",
       "770-42-8960 2019-01-01          8.45    1\n",
       "651-88-7328 2019-01-01         29.58    1\n",
       "530-90-9855 2019-01-01         19.04    1\n",
       "182-52-7000 2019-01-01          5.41    1\n",
       "133-14-7229 2019-01-01          6.29    1\n",
       "...                ...           ...  ...\n",
       "743-04-1105 2019-03-30         43.75   89\n",
       "115-38-7388 2019-03-30          4.07   89\n",
       "364-34-2972 2019-03-30         14.52   89\n",
       "361-85-2571 2019-03-30         22.37   89\n",
       "676-39-6028 2019-03-30         16.11   89\n",
       "\n",
       "[1000 rows x 3 columns]"
      ]
     },
     "execution_count": 29,
     "metadata": {},
     "output_type": "execute_result"
    }
   ],
   "source": [
    "sales_df_date.sort_values('Day')"
   ]
  },
  {
   "cell_type": "markdown",
   "id": "2660ce63",
   "metadata": {},
   "source": [
    "Using `.groupby()` operation to group the data by `Day`, `sum()` operation to sum all numerical values in this case, `Gross income`, and `sort_values()` operation to sort sum values of `Gross income` in descending order."
   ]
  },
  {
   "cell_type": "code",
   "execution_count": 30,
   "id": "7eefa0d7",
   "metadata": {},
   "outputs": [
    {
     "data": {
      "text/html": [
       "<div>\n",
       "<style scoped>\n",
       "    .dataframe tbody tr th:only-of-type {\n",
       "        vertical-align: middle;\n",
       "    }\n",
       "\n",
       "    .dataframe tbody tr th {\n",
       "        vertical-align: top;\n",
       "    }\n",
       "\n",
       "    .dataframe thead th {\n",
       "        text-align: right;\n",
       "    }\n",
       "</style>\n",
       "<table border=\"1\" class=\"dataframe\">\n",
       "  <thead>\n",
       "    <tr style=\"text-align: right;\">\n",
       "      <th></th>\n",
       "      <th>Gross income</th>\n",
       "    </tr>\n",
       "    <tr>\n",
       "      <th>Day</th>\n",
       "      <th></th>\n",
       "    </tr>\n",
       "  </thead>\n",
       "  <tbody>\n",
       "    <tr>\n",
       "      <th>68</th>\n",
       "      <td>355.90</td>\n",
       "    </tr>\n",
       "    <tr>\n",
       "      <th>38</th>\n",
       "      <td>344.21</td>\n",
       "    </tr>\n",
       "    <tr>\n",
       "      <th>73</th>\n",
       "      <td>343.55</td>\n",
       "    </tr>\n",
       "    <tr>\n",
       "      <th>46</th>\n",
       "      <td>325.27</td>\n",
       "    </tr>\n",
       "    <tr>\n",
       "      <th>61</th>\n",
       "      <td>312.39</td>\n",
       "    </tr>\n",
       "    <tr>\n",
       "      <th>...</th>\n",
       "      <td>...</td>\n",
       "    </tr>\n",
       "    <tr>\n",
       "      <th>49</th>\n",
       "      <td>71.24</td>\n",
       "    </tr>\n",
       "    <tr>\n",
       "      <th>66</th>\n",
       "      <td>68.49</td>\n",
       "    </tr>\n",
       "    <tr>\n",
       "      <th>52</th>\n",
       "      <td>66.38</td>\n",
       "    </tr>\n",
       "    <tr>\n",
       "      <th>77</th>\n",
       "      <td>61.57</td>\n",
       "    </tr>\n",
       "    <tr>\n",
       "      <th>44</th>\n",
       "      <td>44.50</td>\n",
       "    </tr>\n",
       "  </tbody>\n",
       "</table>\n",
       "<p>89 rows × 1 columns</p>\n",
       "</div>"
      ],
      "text/plain": [
       "     Gross income\n",
       "Day              \n",
       "68         355.90\n",
       "38         344.21\n",
       "73         343.55\n",
       "46         325.27\n",
       "61         312.39\n",
       "..            ...\n",
       "49          71.24\n",
       "66          68.49\n",
       "52          66.38\n",
       "77          61.57\n",
       "44          44.50\n",
       "\n",
       "[89 rows x 1 columns]"
      ]
     },
     "execution_count": 30,
     "metadata": {},
     "output_type": "execute_result"
    }
   ],
   "source": [
    "sales_df_date.groupby('Day').sum().sort_values('Gross income',ascending=False)"
   ]
  },
  {
   "cell_type": "markdown",
   "id": "b44ae444",
   "metadata": {},
   "source": [
    "Plotting a line graph based on `Day` and `Gross income`"
   ]
  },
  {
   "cell_type": "code",
   "execution_count": 31,
   "id": "c312de23",
   "metadata": {},
   "outputs": [
    {
     "data": {
      "text/plain": [
       "Text(0.5, 1.0, 'Gross Income per Day')"
      ]
     },
     "execution_count": 31,
     "metadata": {},
     "output_type": "execute_result"
    },
    {
     "data": {
      "image/png": "[encoded data removed]",
      "text/plain": [
       "<Figure size 432x288 with 1 Axes>"
      ]
     },
     "metadata": {
      "needs_background": "light"
     },
     "output_type": "display_data"
    }
   ],
   "source": [
    "plt.plot(sales_df_date.groupby('Day').sum(), color='purple')\n",
    "plt.xlabel('Days')\n",
    "plt.ylabel('Total Gross income')\n",
    "plt.title('Gross Income per Day')\n",
    "\n",
    "# Increase default figure and font sizes for easier viewing.\n",
    "#plt.rcParams['figure.figsize'] = (8, 6)\n",
    "#plt.rcParams['font.size'] = 14\n",
    "\n",
    "#x = sales_df_date['Day']\n",
    "#y = sales_df_date['Gross income']\n",
    "#plt.plot(x,y)"
   ]
  },
  {
   "cell_type": "markdown",
   "id": "b5fd0ff3",
   "metadata": {},
   "source": [
    "Based on the plotted line graph, the total gross income obtained by the supermarket daily is fluctuating. The highest `Gross income` daily is 355.9 Dollar at `Day` 68, equivalent to 9th March 2019. The lowest `Gross income` daily is 44.50 Dollar at `Day` 44, equivalent to 13th February 2019."
   ]
  },
  {
   "cell_type": "markdown",
   "id": "496734c9",
   "metadata": {},
   "source": [
    "### 4. User input searching data base"
   ]
  },
  {
   "cell_type": "markdown",
   "id": "0e12a6f7",
   "metadata": {},
   "source": [
    "#### Defining functions for user input search database"
   ]
  },
  {
   "cell_type": "markdown",
   "id": "8f94e10f",
   "metadata": {},
   "source": [
    "Creating few define functions to return values for searching database according to the categories."
   ]
  },
  {
   "cell_type": "code",
   "execution_count": 34,
   "id": "04c01d4e",
   "metadata": {},
   "outputs": [],
   "source": [
    "#user search on dataframe using invoice number\n",
    "def get_invoice(invoice_num): \n",
    "    return sales_df[sales_df.index == invoice_num] #.index because Invoice ID has been replaced as the index\n",
    "\n",
    "#user search on supermarket location\n",
    "def get_location(location): \n",
    "    location = location.lower()\n",
    "    location_dict = {'a':'yangon', 'b':'mandalay', 'c':'naypyitaw'}\n",
    "    i = 0 \n",
    "\n",
    "    for char in location:\n",
    "        i+=1\n",
    "\n",
    "    if i == 1: #get location based on branch\n",
    "        for branch in location_dict.keys():\n",
    "            if location == branch:\n",
    "                location = branch\n",
    "                break\n",
    "        if location == branch:\n",
    "            print(f\"The location of {location.upper()} is at city {location_dict[location].capitalize()}\")\n",
    "        else:\n",
    "            print(f\"There is no supermarket with {location.capitalize()} location\")\n",
    "\n",
    "    else: #get location based on city\n",
    "        print(i)\n",
    "        for branch,city in location_dict.items():\n",
    "            if location == city:\n",
    "                location = city\n",
    "                break\n",
    "        if location == city:\n",
    "                print(f\"The supermarket at city: {location.capitalize()} is branch '{branch.upper()}'\")\n",
    "        else:\n",
    "                print(f\"There is no branch supermarket at {location.capitalize()} city\")\n",
    "\n",
    "#user search payment type available\n",
    "def payment_type(): \n",
    "    print(f\"There are {sales_df['Payment'].nunique()} types of payment, which are {sales_df['Payment'].unique()}\")"
   ]
  },
  {
   "cell_type": "markdown",
   "id": "8c5c0aa8",
   "metadata": {},
   "source": [
    "Receiving input from user and sending the input to the respective define functions. Using try-excerpt block to ensure that the user input in integer value."
   ]
  },
  {
   "cell_type": "code",
   "execution_count": 35,
   "id": "5c4a9d5b",
   "metadata": {},
   "outputs": [
    {
     "name": "stdout",
     "output_type": "stream",
     "text": [
      "Here are the categories for user input:\n",
      "['Invoice No:1', 'Branch Location:2', 'Payment Type:3']\n",
      "\n",
      "Enter your search category number: jok\n",
      "Opps! That's an error: ValueError with exception: (\"invalid literal for int() with base 10: 'jok'\",)\n",
      "Enter your search category number:  \n"
     ]
    }
   ],
   "source": [
    "category = ['Invoice No:1', 'Branch Location:2', 'Payment Type:3']\n",
    "print(f\"Here are the categories for user input:\\n{category}\\n\")\n",
    "    \n",
    "while True:\n",
    "    try:\n",
    "        user_entry = input(\"Enter your search category number: \")\n",
    "        if (user_entry == '') or (user_entry == ' '):\n",
    "            break\n",
    "        else:\n",
    "            user_entry = int(user_entry)\n",
    "            if user_entry == 1:\n",
    "                invoice_num = input(\"Enter your invoice number: \")\n",
    "                print(get_invoice(invoice_num))\n",
    "            elif user_entry == 2:\n",
    "                location = input(\"Enter a branch or City: \")\n",
    "                get_location(location)\n",
    "            elif user_entry == 3:\n",
    "                payment_type()\n",
    "            else:\n",
    "                print(\"No such category number\")           \n",
    "            \n",
    "                \n",
    "    except Exception as ex:\n",
    "            print(\"Opps! That's an error: {} with exception: {}\".format(type(ex).__name__,ex.args)) #built-in variable to print out the type error\n",
    "            continue"
   ]
  }
 ],
 "metadata": {
  "kernelspec": {
   "display_name": "Python 3",
   "language": "python",
   "name": "python3"
  },
  "language_info": {
   "codemirror_mode": {
    "name": "ipython",
    "version": 3
   },
   "file_extension": ".py",
   "mimetype": "text/x-python",
   "name": "python",
   "nbconvert_exporter": "python",
   "pygments_lexer": "ipython3",
   "version": "3.8.8"
  }
 },
 "nbformat": 4,
 "nbformat_minor": 5
}
